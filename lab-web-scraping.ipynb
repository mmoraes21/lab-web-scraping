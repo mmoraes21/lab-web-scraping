{
  "cells": [
    {
      "cell_type": "markdown",
      "id": "7e7a1ab8-2599-417d-9a65-25ef07f3a786",
      "metadata": {
        "id": "7e7a1ab8-2599-417d-9a65-25ef07f3a786"
      },
      "source": [
        "# Lab | Web Scraping"
      ]
    },
    {
      "cell_type": "markdown",
      "id": "ce8882fc-4815-4567-92fa-b4816358ba7d",
      "metadata": {
        "id": "ce8882fc-4815-4567-92fa-b4816358ba7d"
      },
      "source": [
        "Welcome to the IMDb Web Scraping Adventure Lab!\n",
        "\n",
        "**Objective**\n",
        "\n",
        "In this lab, we will embark on a mission to unearth valuable insights from the vast sea of data available on IMDb, one of the largest online databases of movie, TV, and celebrity information. As budding data scientists and business analysts, you have been tasked to scrape a specific subset of data from IMDb to assist film production companies in understanding the landscape of highly-rated movies in a defined time period. Your insights will potentially influence the making of the next netflix movie!\n",
        "\n",
        "**Background**\n",
        "\n",
        "In a world where data has become the new currency, businesses are leveraging big data to make informed decisions that drive success and profitability. The entertainment industry, being no exception, utilizes data analytics to comprehend market trends, audience preferences, and the performance of films based on various parameters such as director, genre, stars involved, etc. IMDb stands as a goldmine of such data, offering intricate details of almost every movie ever made.\n",
        "\n",
        "**Task**\n",
        "\n",
        "Your task is to create a Python script using `BeautifulSoup` and `pandas` to scrape IMDb movie data based on user ratings and release dates. This script should be able to filter movies with ratings above a certain threshold and within a specified date range.\n",
        "\n",
        "**Expected Outcome**\n",
        "\n",
        "- A function named `scrape_imdb` that takes four parameters: `title_type`,`user_rating`, `start_date`, and `end_date`.\n",
        "- The function should return a DataFrame with the following columns:\n",
        "  - **Movie Nr**: The number representing the movie’s position in the list.\n",
        "  - **Title**: The title of the movie.\n",
        "  - **Year**: The year the movie was released.\n",
        "  - **Rating**: The IMDb rating of the movie.\n",
        "  - **Runtime (min)**: The duration of the movie in minutes.\n",
        "  - **Genre**: The genre of the movie.\n",
        "  - **Description**: A brief description of the movie.\n",
        "  - **Director**: The director of the movie.\n",
        "  - **Stars**: The main stars of the movie.\n",
        "  - **Votes**: The number of votes the movie received.\n",
        "  - **Gross ($M)**: The gross earnings of the movie in millions of USD.\n",
        "\n",
        "You will execute this script to scrape data for movies with the Title Type `Feature Film` that have a user rating of `7.5 and above` and were released between `January 1, 1990, and December 31, 1992`.\n",
        "\n",
        "Remember to experiment with different title types, dates and ratings to ensure your code is versatile and can handle various searches effectively!\n",
        "\n",
        "**Resources**\n",
        "\n",
        "- [Beautiful Soup Documentation](https://www.crummy.com/software/BeautifulSoup/bs4/doc/)\n",
        "- [Pandas Documentation](https://pandas.pydata.org/pandas-docs/stable/index.html)\n",
        "- [IMDb Advanced Search](https://www.imdb.com/search/title/)\n"
      ]
    },
    {
      "cell_type": "markdown",
      "id": "3519921d-5890-445b-9a33-934ed8ee378c",
      "metadata": {
        "id": "3519921d-5890-445b-9a33-934ed8ee378c"
      },
      "source": [
        "**Hint**\n",
        "\n",
        "Your first mission is to familiarize yourself with the IMDb advanced search page. Head over to [IMDb advanced search](https://www.imdb.com/search/title/) and input the following parameters, keeping all other fields to their default values or blank:\n",
        "\n",
        "- **Title Type**: Feature film\n",
        "- **Release date**: From 1990 to 1992 (Note: You don't need to specify the day and month)\n",
        "- **User Rating**: 7.5 to -\n",
        "\n",
        "Upon searching, you'll land on a page showcasing a list of movies, each displaying vital details such as the title, release year, and crew information. Your task is to scrape this treasure trove of data.\n",
        "\n",
        "Carefully examine the resulting URL and construct your own URL to include all the necessary parameters for filtering the movies."
      ]
    },
    {
      "cell_type": "markdown",
      "id": "25a83a0d-a742-49f6-985e-e27887cbf922",
      "metadata": {
        "id": "25a83a0d-a742-49f6-985e-e27887cbf922"
      },
      "source": [
        "\n",
        "---\n",
        "\n",
        "**Best of luck! Immerse yourself in the world of movies and may the data be with you!**"
      ]
    },
    {
      "cell_type": "markdown",
      "id": "7b75cf0d-9afa-4eec-a9e2-befeac68b2a0",
      "metadata": {
        "id": "7b75cf0d-9afa-4eec-a9e2-befeac68b2a0"
      },
      "source": [
        "**Important note**:\n",
        "\n",
        "In the fast-changing online world, websites often get updates and make changes. When you try this lab, the IMDb website might be different from what we expect.\n",
        "\n",
        "If you run into problems because of these changes, like new rules or things that stop you from getting data, don't worry! Instead, get creative.\n",
        "\n",
        "You can choose another website that interests you and is good for scraping data. Websites like Wikipedia or The New York Times are good options. The main goal is still the same: get useful data and learn how to scrape it from a website that you find interesting. It's a chance to practice your web scraping skills and explore a source of information you like."
      ]
    },
    {
      "cell_type": "code",
      "execution_count": 2,
      "id": "1ab4731d",
      "metadata": {},
      "outputs": [],
      "source": [
        "import pandas as pd\n",
        "import requests\n",
        "from bs4 import BeautifulSoup"
      ]
    },
    {
      "cell_type": "code",
      "execution_count": 3,
      "id": "9551bcea",
      "metadata": {},
      "outputs": [
        {
          "ename": "IndexError",
          "evalue": "list index out of range",
          "output_type": "error",
          "traceback": [
            "\u001b[1;31m---------------------------------------------------------------------------\u001b[0m",
            "\u001b[1;31mIndexError\u001b[0m                                Traceback (most recent call last)",
            "\u001b[1;32mc:\\Users\\migue\\OneDrive\\Ambiente de Trabalho\\Ironhack\\week 2\\lab-web-scraping\\lab-web-scraping.ipynb Cell 7\u001b[0m line \u001b[0;36m5\n\u001b[0;32m     <a href='vscode-notebook-cell:/c%3A/Users/migue/OneDrive/Ambiente%20de%20Trabalho/Ironhack/week%202/lab-web-scraping/lab-web-scraping.ipynb#W5sZmlsZQ%3D%3D?line=51'>52</a>\u001b[0m     index \u001b[39m+\u001b[39m\u001b[39m=\u001b[39m\u001b[39m1\u001b[39m\n\u001b[0;32m     <a href='vscode-notebook-cell:/c%3A/Users/migue/OneDrive/Ambiente%20de%20Trabalho/Ironhack/week%202/lab-web-scraping/lab-web-scraping.ipynb#W5sZmlsZQ%3D%3D?line=52'>53</a>\u001b[0m     \u001b[39mreturn\u001b[39;00m pd\u001b[39m.\u001b[39mDataFrame\u001b[39m.\u001b[39mfrom_dict(film_dict, orient\u001b[39m=\u001b[39m\u001b[39m\"\u001b[39m\u001b[39mindex\u001b[39m\u001b[39m\"\u001b[39m)\n\u001b[1;32m---> <a href='vscode-notebook-cell:/c%3A/Users/migue/OneDrive/Ambiente%20de%20Trabalho/Ironhack/week%202/lab-web-scraping/lab-web-scraping.ipynb#W5sZmlsZQ%3D%3D?line=54'>55</a>\u001b[0m scrape_imdb(title_type\u001b[39m=\u001b[39m\u001b[39m\"\u001b[39m\u001b[39mfeature\u001b[39m\u001b[39m\"\u001b[39m, start_date\u001b[39m=\u001b[39m\u001b[39m\"\u001b[39m\u001b[39m1990-01-01\u001b[39m\u001b[39m\"\u001b[39m, end_date\u001b[39m=\u001b[39m\u001b[39m\"\u001b[39m\u001b[39m1992-12-31\u001b[39m\u001b[39m\"\u001b[39m, user_rating\u001b[39m=\u001b[39m\u001b[39m\"\u001b[39m\u001b[39m7.5\u001b[39m\u001b[39m\"\u001b[39m)\n",
            "\u001b[1;32mc:\\Users\\migue\\OneDrive\\Ambiente de Trabalho\\Ironhack\\week 2\\lab-web-scraping\\lab-web-scraping.ipynb Cell 7\u001b[0m line \u001b[0;36m2\n\u001b[0;32m     <a href='vscode-notebook-cell:/c%3A/Users/migue/OneDrive/Ambiente%20de%20Trabalho/Ironhack/week%202/lab-web-scraping/lab-web-scraping.ipynb#W5sZmlsZQ%3D%3D?line=15'>16</a>\u001b[0m     film_year \u001b[39m=\u001b[39m item\u001b[39m.\u001b[39mfind_all(\u001b[39m\"\u001b[39m\u001b[39mspan\u001b[39m\u001b[39m\"\u001b[39m, attrs \u001b[39m=\u001b[39m {\u001b[39m\"\u001b[39m\u001b[39mclass\u001b[39m\u001b[39m\"\u001b[39m:\u001b[39m\"\u001b[39m\u001b[39mlister-item-year text-muted unbold\u001b[39m\u001b[39m\"\u001b[39m})[\u001b[39m0\u001b[39m]\u001b[39m.\u001b[39mget_text()\u001b[39m.\u001b[39mstrip()\n\u001b[0;32m     <a href='vscode-notebook-cell:/c%3A/Users/migue/OneDrive/Ambiente%20de%20Trabalho/Ironhack/week%202/lab-web-scraping/lab-web-scraping.ipynb#W5sZmlsZQ%3D%3D?line=18'>19</a>\u001b[0m film_genre \u001b[39m=\u001b[39m film\u001b[39m.\u001b[39mfind_all(\u001b[39m\"\u001b[39m\u001b[39mspan\u001b[39m\u001b[39m\"\u001b[39m, attrs \u001b[39m=\u001b[39m {\u001b[39m\"\u001b[39m\u001b[39mclass\u001b[39m\u001b[39m\"\u001b[39m:\u001b[39m\"\u001b[39m\u001b[39mgenre\u001b[39m\u001b[39m\"\u001b[39m})[\u001b[39m0\u001b[39m]\u001b[39m.\u001b[39mget_text()\u001b[39m.\u001b[39mstrip()\n\u001b[1;32m---> <a href='vscode-notebook-cell:/c%3A/Users/migue/OneDrive/Ambiente%20de%20Trabalho/Ironhack/week%202/lab-web-scraping/lab-web-scraping.ipynb#W5sZmlsZQ%3D%3D?line=19'>20</a>\u001b[0m film_duration \u001b[39m=\u001b[39m film\u001b[39m.\u001b[39mfind_all(\u001b[39m\"\u001b[39m\u001b[39mspan\u001b[39m\u001b[39m\"\u001b[39m, attrs \u001b[39m=\u001b[39m {\u001b[39m\"\u001b[39m\u001b[39mclass\u001b[39m\u001b[39m\"\u001b[39m:\u001b[39m\"\u001b[39m\u001b[39mruntime\u001b[39m\u001b[39m\"\u001b[39m})[\u001b[39m0\u001b[39m]\u001b[39m.\u001b[39mget_text()\u001b[39m.\u001b[39mstrip()\n\u001b[0;32m     <a href='vscode-notebook-cell:/c%3A/Users/migue/OneDrive/Ambiente%20de%20Trabalho/Ironhack/week%202/lab-web-scraping/lab-web-scraping.ipynb#W5sZmlsZQ%3D%3D?line=20'>21</a>\u001b[0m film_rating \u001b[39m=\u001b[39m film\u001b[39m.\u001b[39mfind_all(\u001b[39m\"\u001b[39m\u001b[39mdiv\u001b[39m\u001b[39m\"\u001b[39m, attrs \u001b[39m=\u001b[39m {\u001b[39m\"\u001b[39m\u001b[39mclass\u001b[39m\u001b[39m\"\u001b[39m:\u001b[39m\"\u001b[39m\u001b[39minline-block ratings-imdb-rating\u001b[39m\u001b[39m\"\u001b[39m})[\u001b[39m0\u001b[39m]\u001b[39m.\u001b[39mget_text()\u001b[39m.\u001b[39mstrip()\n\u001b[0;32m     <a href='vscode-notebook-cell:/c%3A/Users/migue/OneDrive/Ambiente%20de%20Trabalho/Ironhack/week%202/lab-web-scraping/lab-web-scraping.ipynb#W5sZmlsZQ%3D%3D?line=21'>22</a>\u001b[0m film_description \u001b[39m=\u001b[39m film\u001b[39m.\u001b[39mfind_all(\u001b[39m\"\u001b[39m\u001b[39mp\u001b[39m\u001b[39m\"\u001b[39m, attrs \u001b[39m=\u001b[39m {\u001b[39m\"\u001b[39m\u001b[39mclass\u001b[39m\u001b[39m\"\u001b[39m:\u001b[39m\"\u001b[39m\u001b[39mtext-muted\u001b[39m\u001b[39m\"\u001b[39m})[\u001b[39m1\u001b[39m]\u001b[39m.\u001b[39mget_text()\u001b[39m.\u001b[39mstrip()\n",
            "\u001b[1;31mIndexError\u001b[0m: list index out of range"
          ]
        }
      ],
      "source": [
        "\n",
        "\n",
        "def scrape_imdb(title_type, start_date, end_date, user_rating):\n",
        "    url = f\"https://www.imdb.com/search/title/?title_type={title_type}&release_date={start_date},{end_date}&user_rating={user_rating},&start=101&ref_=adv_nxt\"\n",
        "    response = requests.get(url)\n",
        "    soup = BeautifulSoup(response.content)\n",
        "    \n",
        "    film_dict = {}\n",
        "    index = 0\n",
        "\n",
        "    films = soup.find_all(\"div\", attrs = {\"class\":\"lister-item mode-advanced\"})\n",
        "    for film in films:\n",
        "        \n",
        "        film_header = film.find_all(\"h3\", attrs = {\"class\":\"lister-item-header\"})\n",
        "        for item in film_header:\n",
        "            film_position = item.find_all(\"span\", attrs = {\"class\":\"lister-item-index unbold text-primary\"})[0].get_text().strip()\n",
        "            film_name = item.find_all(\"a\")[0].get_text().strip()\n",
        "            film_year = item.find_all(\"span\", attrs = {\"class\":\"lister-item-year text-muted unbold\"})[0].get_text().strip()\n",
        "\n",
        "        \n",
        "        film_genre = film.find_all(\"span\", attrs = {\"class\":\"genre\"})[0].get_text().strip()\n",
        "        film_duration = film.find_all(\"span\", attrs = {\"class\":\"runtime\"})[0].get_text().strip()\n",
        "        film_rating = film.find_all(\"div\", attrs = {\"class\":\"inline-block ratings-imdb-rating\"})[0].get_text().strip()\n",
        "        film_description = film.find_all(\"p\", attrs = {\"class\":\"text-muted\"})[1].get_text().strip()\n",
        "        \n",
        "        film_director_stars = film.find_all(\"p\")[2] \n",
        "        film_director = film_director_stars.find_all(\"a\")[0].get_text().strip() \n",
        "        film_actors = \",\".join([actor.get_text().strip() for actor in film_director_stars.find_all(\"a\")[1:]]) \n",
        "\n",
        "        film_votesgross = film.find(\"p\", class_=\"sort-num_votes-visible\")\n",
        "        if film_votesgross:\n",
        "            votes = film_votesgross.find(\"span\", {\"name\": \"nv\"})\n",
        "            gross = film_votesgross.find(\"span\", {\"name\": \"nv\"})  \n",
        "            if votes:\n",
        "                film_votes = votes[\"data-value\"]\n",
        "            else:\n",
        "                film_votes = None\n",
        "            if gross:\n",
        "                film_gross = gross[\"data-value\"]\n",
        "            else:\n",
        "                film_gross = None\n",
        "\n",
        "    film_dict[index] = {\"ranking\":film_position,\n",
        "                        \"title\":film_name,\n",
        "                        \"year\":film_year,\n",
        "                        \"genre\":film_genre,\n",
        "                        \"duration\":film_duration,\n",
        "                        \"rating\":film_rating,\n",
        "                        \"description\": film_description,\n",
        "                        \"director\":film_director,\n",
        "                        \"actors\":film_actors,\n",
        "                        \"votes\":film_votes,\n",
        "                       \"gross\": film_gross}\n",
        "    index +=1\n",
        "    return pd.DataFrame.from_dict(film_dict, orient=\"index\")\n",
        "\n",
        "scrape_imdb(title_type=\"feature\", start_date=\"1990-01-01\", end_date=\"1992-12-31\", user_rating=\"7.5\")"
      ]
    },
    {
      "cell_type": "markdown",
      "id": "9ab1217a-df9d-4a2b-a32c-2c5f1eecd52a",
      "metadata": {
        "id": "9ab1217a-df9d-4a2b-a32c-2c5f1eecd52a"
      },
      "source": [
        "## BONUS\n",
        "\n",
        "The search results span multiple pages, housing a total of 631 movies in our example with each page displaying 50 movies at most. To scrape data seamlessly from all pages, you'll need to dive deep into the structure of the URLs generated with each \"Next\" click.\n",
        "\n",
        "Take a close look at the following URLs:\n",
        "- First page:\n",
        "  ```\n",
        "  https://www.imdb.com/search/title/?title_type=feature&release_date=1990-01-01,1992-12-31&user_rating=7.5,\n",
        "  ```\n",
        "- Second page:\n",
        "  ```\n",
        "  https://www.imdb.com/search/title/?title_type=feature&release_date=1990-01-01,1992-12-31&user_rating=7.5,&start=51&ref_=adv_nxt\n",
        "  ```\n",
        "- Third page:\n",
        "  ```\n",
        "  https://www.imdb.com/search/title/?title_type=feature&release_date=1990-01-01,1992-12-31&user_rating=7.5,&start=101&ref_=adv_nxt\n",
        "  ```\n",
        "\n",
        "You should notice a pattern. There is a `start` parameter incrementing by 50 with each page, paired with a constant `ref_` parameter holding the value \"adv_nxt\".\n",
        "\n",
        "Modify your script so it's capable of iterating over all available pages to fetch data on all the 631 movies (631 is the total number of movies in the proposed example)."
      ]
    },
    {
      "cell_type": "code",
      "execution_count": null,
      "id": "21ac4fc0-a12b-4a00-9266-2020166f0dea",
      "metadata": {
        "id": "21ac4fc0-a12b-4a00-9266-2020166f0dea"
      },
      "outputs": [],
      "source": [
        "# Your solution goes here"
      ]
    }
  ],
  "metadata": {
    "colab": {
      "provenance": []
    },
    "kernelspec": {
      "display_name": "Python 3 (ipykernel)",
      "language": "python",
      "name": "python3"
    },
    "language_info": {
      "codemirror_mode": {
        "name": "ipython",
        "version": 3
      },
      "file_extension": ".py",
      "mimetype": "text/x-python",
      "name": "python",
      "nbconvert_exporter": "python",
      "pygments_lexer": "ipython3",
      "version": "3.11.4"
    }
  },
  "nbformat": 4,
  "nbformat_minor": 5
}
